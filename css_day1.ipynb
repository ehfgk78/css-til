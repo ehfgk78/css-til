{
 "cells": [
  {
   "cell_type": "code",
   "execution_count": 1,
   "metadata": {},
   "outputs": [
    {
     "name": "stdout",
     "output_type": "stream",
     "text": [
      "hello python\n"
     ]
    }
   ],
   "source": [
    "print(\"hello python\")"
   ]
  },
  {
   "cell_type": "code",
   "execution_count": 9,
   "metadata": {},
   "outputs": [
    {
     "name": "stdout",
     "output_type": "stream",
     "text": [
      "radius =  10\n",
      "diameter =  20\n",
      "circumference =  62.83\n",
      "area =  314.15\n",
      "volume =  4188.666666666666\n"
     ]
    }
   ],
   "source": [
    "r = 10;\n",
    "print(\"radius = \", r);\n",
    "d = 2 * r\n",
    "print(\"diameter = \", d)\n",
    "pi = 3.1415\n",
    "c = round(2 * r * pi, 4)\n",
    "print(\"circumference = \", c)\n",
    "a = round(r **2 * pi , 3)\n",
    "print(\"area = \", a)\n",
    "v = 4/3 * pi * r**3\n",
    "print(\"volume = \", v)"
   ]
  },
  {
   "cell_type": "code",
   "execution_count": null,
   "metadata": {
    "collapsed": true
   },
   "outputs": [],
   "source": []
  }
 ],
 "metadata": {
  "kernelspec": {
   "display_name": "Python 3",
   "language": "python",
   "name": "python3"
  },
  "language_info": {
   "codemirror_mode": {
    "name": "ipython",
    "version": 3
   },
   "file_extension": ".py",
   "mimetype": "text/x-python",
   "name": "python",
   "nbconvert_exporter": "python",
   "pygments_lexer": "ipython3",
   "version": "3.5.2"
  }
 },
 "nbformat": 4,
 "nbformat_minor": 2
}
